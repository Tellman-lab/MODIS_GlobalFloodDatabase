{
 "cells": [
  {
   "cell_type": "code",
   "execution_count": 2,
   "id": "3a16976e-40e4-437b-ad8b-7ade13ef2b9e",
   "metadata": {},
   "outputs": [],
   "source": [
    "import ee"
   ]
  },
  {
   "cell_type": "code",
   "execution_count": 3,
   "id": "17d78ef9-d53d-4a26-8693-a1b712cb012b",
   "metadata": {},
   "outputs": [
    {
     "data": {
      "text/html": [
       "<p>To authorize access needed by Earth Engine, open the following\n",
       "        URL in a web browser and follow the instructions:</p>\n",
       "        <p><a href=https://code.earthengine.google.com/client-auth?scopes=https%3A//www.googleapis.com/auth/earthengine%20https%3A//www.googleapis.com/auth/devstorage.full_control&request_id=KIvsfYqQvKsahwIb03qilCyz6MqfduDSWo8Qj00qeYM&tc=mXOgPXgLWgwXZpP1siSX7hQOKC0pGTCKs2f2mo21SiI&cc=kQNQGT5HXnBQcZb-oFl3sRGx1gER0OZTOXsdGOha-S4>https://code.earthengine.google.com/client-auth?scopes=https%3A//www.googleapis.com/auth/earthengine%20https%3A//www.googleapis.com/auth/devstorage.full_control&request_id=KIvsfYqQvKsahwIb03qilCyz6MqfduDSWo8Qj00qeYM&tc=mXOgPXgLWgwXZpP1siSX7hQOKC0pGTCKs2f2mo21SiI&cc=kQNQGT5HXnBQcZb-oFl3sRGx1gER0OZTOXsdGOha-S4</a></p>\n",
       "        <p>The authorization workflow will generate a code, which you\n",
       "        should paste in the box below</p>\n",
       "        "
      ],
      "text/plain": [
       "<IPython.core.display.HTML object>"
      ]
     },
     "metadata": {},
     "output_type": "display_data"
    },
    {
     "name": "stdin",
     "output_type": "stream",
     "text": [
      "Enter verification code:  4/1AX4XfWhe67PPKom7nH9xPd3H8qi-lrcEuzoquiqwiLFwfTAumRQJk6Qw7O0\n"
     ]
    },
    {
     "name": "stdout",
     "output_type": "stream",
     "text": [
      "\n",
      "Successfully saved authorization token.\n"
     ]
    }
   ],
   "source": [
    "ee.Authenticate()"
   ]
  },
  {
   "cell_type": "code",
   "execution_count": 71,
   "id": "ad0b16c7-87e6-472a-ade8-ba45c4131d94",
   "metadata": {},
   "outputs": [],
   "source": [
    "ee.Initialize()"
   ]
  },
  {
   "cell_type": "code",
   "execution_count": 4,
   "id": "b7de38df-b3e8-4d98-b928-586530ec692d",
   "metadata": {},
   "outputs": [],
   "source": [
    "import importlib\n",
    "from flood_detection import modis\n",
    "importlib.reload(modis)\n",
    "from flood_detection.utils import misc\n",
    "import geemap\n",
    "from pathlib import Path\n",
    "import rasterio"
   ]
  },
  {
   "cell_type": "code",
   "execution_count": 8,
   "id": "f7653bac-9f30-4f8f-8266-a20ad3160749",
   "metadata": {},
   "outputs": [],
   "source": []
  },
  {
   "cell_type": "code",
   "execution_count": 5,
   "id": "b312046b-254f-4b3f-83cb-f7dd6b5ddd4b",
   "metadata": {},
   "outputs": [],
   "source": [
    "Rajshahi = ee.FeatureCollection(\"projects/ee-bobgiezi/assets/Gates/Rajshahi\").geometry().bounds()\n",
    "Kurigram = ee.FeatureCollection(\"projects/ee-bobgiezi/assets/Gates/Kurigram\").geometry().bounds()\n",
    "Barisal = ee.FeatureCollection(\"projects/ee-bobgiezi/assets/Gates/Barisal\").geometry().bounds()"
   ]
  },
  {
   "cell_type": "code",
   "execution_count": 6,
   "id": "dfb436a7-93d9-49d8-afc9-ac07da7c3a50",
   "metadata": {},
   "outputs": [],
   "source": [
    "geoms = list()\n",
    "geoms.append(Rajshahi)\n",
    "geoms.append(Kurigram)\n",
    "geoms.append(Barisal)"
   ]
  },
  {
   "cell_type": "code",
   "execution_count": 7,
   "id": "094e7374-0033-4cd9-8327-1c760e313ce6",
   "metadata": {},
   "outputs": [],
   "source": [
    "names = ['Rajshahi', 'Kurigram', 'Barisal']"
   ]
  },
  {
   "cell_type": "code",
   "execution_count": 10,
   "id": "bc4b490c-b607-4316-a343-e1fa32bb103d",
   "metadata": {},
   "outputs": [
    {
     "name": "stdout",
     "output_type": "stream",
     "text": [
      "Collected and pre-processed MODIS Images\n",
      "DFO Flood Dectection Complete\n",
      "Generating URL ...\n",
      "Downloading data from https://earthengine.googleapis.com/v1alpha/projects/earthengine-legacy/thumbnails/d00a8829f35f71c20ed09beaa0050464-fab01426800884c90723b393cfe2b6d2:getPixels\n",
      "Please wait ...\n",
      "Data downloaded to /home/jovyan/work/MODIS_GlobalFloodDatabase/DataExport/Barisal/2001.tif\n",
      "Collected and pre-processed MODIS Images\n",
      "DFO Flood Dectection Complete\n",
      "Generating URL ...\n",
      "Downloading data from https://earthengine.googleapis.com/v1alpha/projects/earthengine-legacy/thumbnails/92920337245dc0d89f3d97c443f10d78-0491f690dfa62ad7f9bcd72e2d1c27e6:getPixels\n",
      "Please wait ...\n",
      "Data downloaded to /home/jovyan/work/MODIS_GlobalFloodDatabase/DataExport/Barisal/2002.tif\n",
      "Collected and pre-processed MODIS Images\n",
      "DFO Flood Dectection Complete\n",
      "Generating URL ...\n",
      "Downloading data from https://earthengine.googleapis.com/v1alpha/projects/earthengine-legacy/thumbnails/ba38155f8b3c989cfb77a53230960a8f-cebd8c568afa5686243ac8744ffbddb8:getPixels\n",
      "Please wait ...\n",
      "Data downloaded to /home/jovyan/work/MODIS_GlobalFloodDatabase/DataExport/Barisal/2003.tif\n",
      "Collected and pre-processed MODIS Images\n",
      "DFO Flood Dectection Complete\n",
      "Generating URL ...\n",
      "Downloading data from https://earthengine.googleapis.com/v1alpha/projects/earthengine-legacy/thumbnails/f0c0d6b498424c84a00ae207553b43dd-95dff03d1f3f93d8f0cd320924988eeb:getPixels\n",
      "Please wait ...\n",
      "Data downloaded to /home/jovyan/work/MODIS_GlobalFloodDatabase/DataExport/Barisal/2004.tif\n",
      "Collected and pre-processed MODIS Images\n",
      "DFO Flood Dectection Complete\n",
      "Generating URL ...\n",
      "Downloading data from https://earthengine.googleapis.com/v1alpha/projects/earthengine-legacy/thumbnails/3dd26210b5fe309cd9dc4f0c9c4b718d-7e6d3cb8d3e63909b622aef81a5d80ba:getPixels\n",
      "Please wait ...\n",
      "Data downloaded to /home/jovyan/work/MODIS_GlobalFloodDatabase/DataExport/Barisal/2005.tif\n",
      "Collected and pre-processed MODIS Images\n",
      "DFO Flood Dectection Complete\n",
      "Generating URL ...\n",
      "Downloading data from https://earthengine.googleapis.com/v1alpha/projects/earthengine-legacy/thumbnails/f55525046fc19c397686204a4ade183e-156d579ecd0b457f264cbd4f7ff9dce9:getPixels\n",
      "Please wait ...\n",
      "Data downloaded to /home/jovyan/work/MODIS_GlobalFloodDatabase/DataExport/Barisal/2006.tif\n",
      "Collected and pre-processed MODIS Images\n",
      "DFO Flood Dectection Complete\n",
      "Generating URL ...\n",
      "Downloading data from https://earthengine.googleapis.com/v1alpha/projects/earthengine-legacy/thumbnails/bcc8f129c920e748a0547e6ee750570d-5341969ae1aad059585e84d369973e60:getPixels\n",
      "Please wait ...\n",
      "Data downloaded to /home/jovyan/work/MODIS_GlobalFloodDatabase/DataExport/Barisal/2007.tif\n",
      "Collected and pre-processed MODIS Images\n",
      "DFO Flood Dectection Complete\n",
      "Generating URL ...\n",
      "Downloading data from https://earthengine.googleapis.com/v1alpha/projects/earthengine-legacy/thumbnails/ad417a87cb2b5b1324b51960ffc817a8-4698c02154397a3902c94d86a10d4ae8:getPixels\n",
      "Please wait ...\n",
      "Data downloaded to /home/jovyan/work/MODIS_GlobalFloodDatabase/DataExport/Barisal/2008.tif\n",
      "Collected and pre-processed MODIS Images\n",
      "DFO Flood Dectection Complete\n",
      "Generating URL ...\n",
      "Downloading data from https://earthengine.googleapis.com/v1alpha/projects/earthengine-legacy/thumbnails/6ec94d9796ee85214b63fbf42c28239c-786b542ff134597d367b61e47fc2b233:getPixels\n",
      "Please wait ...\n",
      "Data downloaded to /home/jovyan/work/MODIS_GlobalFloodDatabase/DataExport/Barisal/2009.tif\n",
      "Collected and pre-processed MODIS Images\n",
      "DFO Flood Dectection Complete\n",
      "Generating URL ...\n",
      "Downloading data from https://earthengine.googleapis.com/v1alpha/projects/earthengine-legacy/thumbnails/bd4089346a15c450c9f529b6e832be0f-84d989c1cc768621aea2b8a5d94a8e80:getPixels\n",
      "Please wait ...\n",
      "Data downloaded to /home/jovyan/work/MODIS_GlobalFloodDatabase/DataExport/Barisal/2010.tif\n",
      "Collected and pre-processed MODIS Images\n",
      "DFO Flood Dectection Complete\n",
      "Generating URL ...\n",
      "Downloading data from https://earthengine.googleapis.com/v1alpha/projects/earthengine-legacy/thumbnails/f93a40eec0c18451f00e945ac83d99e4-99823d4c0f2d04007cd61dec493cfe59:getPixels\n",
      "Please wait ...\n",
      "Data downloaded to /home/jovyan/work/MODIS_GlobalFloodDatabase/DataExport/Barisal/2011.tif\n",
      "Collected and pre-processed MODIS Images\n",
      "DFO Flood Dectection Complete\n",
      "Generating URL ...\n",
      "Downloading data from https://earthengine.googleapis.com/v1alpha/projects/earthengine-legacy/thumbnails/ab6aad782d305736ff3d643e8ed9a79b-7f252dd565ad37fb6178f97026031dfe:getPixels\n",
      "Please wait ...\n",
      "Data downloaded to /home/jovyan/work/MODIS_GlobalFloodDatabase/DataExport/Barisal/2012.tif\n",
      "Collected and pre-processed MODIS Images\n",
      "DFO Flood Dectection Complete\n",
      "Generating URL ...\n",
      "Downloading data from https://earthengine.googleapis.com/v1alpha/projects/earthengine-legacy/thumbnails/6edce9085a175bfefed01be9b5830d42-8d3e63523b280469c96cb28e17a91613:getPixels\n",
      "Please wait ...\n",
      "Data downloaded to /home/jovyan/work/MODIS_GlobalFloodDatabase/DataExport/Barisal/2013.tif\n",
      "Collected and pre-processed MODIS Images\n",
      "DFO Flood Dectection Complete\n",
      "Generating URL ...\n",
      "Downloading data from https://earthengine.googleapis.com/v1alpha/projects/earthengine-legacy/thumbnails/39c7351faa59a8d5a9e8db92497f6e76-9d9dea7cc36e92d5d4360962cbc21f68:getPixels\n",
      "Please wait ...\n",
      "Data downloaded to /home/jovyan/work/MODIS_GlobalFloodDatabase/DataExport/Barisal/2014.tif\n",
      "Collected and pre-processed MODIS Images\n",
      "DFO Flood Dectection Complete\n",
      "Generating URL ...\n",
      "Downloading data from https://earthengine.googleapis.com/v1alpha/projects/earthengine-legacy/thumbnails/a3cf653bcab0136cb6976f6004d7ee4d-17cea02bebcc44b46f40773ca3d431bc:getPixels\n",
      "Please wait ...\n",
      "Data downloaded to /home/jovyan/work/MODIS_GlobalFloodDatabase/DataExport/Barisal/2015.tif\n",
      "Collected and pre-processed MODIS Images\n",
      "DFO Flood Dectection Complete\n",
      "Generating URL ...\n",
      "Downloading data from https://earthengine.googleapis.com/v1alpha/projects/earthengine-legacy/thumbnails/21f1d3792d0fc98c8cefb50aed5536d9-b87a3d6232a69bb77fbaa0426166d7c1:getPixels\n",
      "Please wait ...\n",
      "Data downloaded to /home/jovyan/work/MODIS_GlobalFloodDatabase/DataExport/Barisal/2016.tif\n",
      "Collected and pre-processed MODIS Images\n",
      "DFO Flood Dectection Complete\n",
      "Generating URL ...\n",
      "Downloading data from https://earthengine.googleapis.com/v1alpha/projects/earthengine-legacy/thumbnails/15b8acf17667e55508451f302a53da1f-ea684da2d8991b85212552b2c23b1fd5:getPixels\n",
      "Please wait ...\n",
      "Data downloaded to /home/jovyan/work/MODIS_GlobalFloodDatabase/DataExport/Barisal/2017.tif\n",
      "Collected and pre-processed MODIS Images\n",
      "DFO Flood Dectection Complete\n",
      "Generating URL ...\n",
      "Downloading data from https://earthengine.googleapis.com/v1alpha/projects/earthengine-legacy/thumbnails/0ccad4b2e3260f77024b102201b2d8c5-d39efb3b3f4e3ebdb681db17f0882c24:getPixels\n",
      "Please wait ...\n",
      "Data downloaded to /home/jovyan/work/MODIS_GlobalFloodDatabase/DataExport/Barisal/2018.tif\n",
      "Collected and pre-processed MODIS Images\n",
      "DFO Flood Dectection Complete\n",
      "Generating URL ...\n",
      "Downloading data from https://earthengine.googleapis.com/v1alpha/projects/earthengine-legacy/thumbnails/817d1c0b2d3cef1e3a746cfb2e7407a1-5d2160c42eb041b3278c3aec7e8e8a6d:getPixels\n",
      "Please wait ...\n",
      "Data downloaded to /home/jovyan/work/MODIS_GlobalFloodDatabase/DataExport/Barisal/2019.tif\n",
      "Collected and pre-processed MODIS Images\n",
      "DFO Flood Dectection Complete\n",
      "Generating URL ...\n",
      "Downloading data from https://earthengine.googleapis.com/v1alpha/projects/earthengine-legacy/thumbnails/25b0cd0cf85dd112e157b83f3fe335d1-f9de38e8725bf6f6eee8f37d40a33481:getPixels\n",
      "Please wait ...\n",
      "Data downloaded to /home/jovyan/work/MODIS_GlobalFloodDatabase/DataExport/Barisal/2020.tif\n",
      "Collected and pre-processed MODIS Images\n",
      "DFO Flood Dectection Complete\n",
      "Generating URL ...\n",
      "Downloading data from https://earthengine.googleapis.com/v1alpha/projects/earthengine-legacy/thumbnails/a4aefed38eaccb611517988282140879-d6ae00140304381775c2eec721ecc595:getPixels\n",
      "Please wait ...\n",
      "Data downloaded to /home/jovyan/work/MODIS_GlobalFloodDatabase/DataExport/Barisal/2021.tif\n"
     ]
    }
   ],
   "source": [
    "for k in [2]:#range(len(geoms)):\n",
    "    for year in range(2001, 2022):\n",
    "        geom = geoms[k]\n",
    "        name = names[k]\n",
    "        \n",
    "        filename = str(Path('DataExport')/name/(str(year)+'.tif'))\n",
    "\n",
    "        flood_map = modis.dfo(geom, str(year)+\"-06-01\", str(year)+\"-12-31\", \"standard\", '3Day', True)\n",
    "\n",
    "        flood_map_slope_mask = misc.apply_slope_mask(flood_map, thresh=5)\n",
    "\n",
    "        perm_water = misc.get_jrc_perm(geom)\n",
    "\n",
    "        dfo_final = ee.Image(flood_map_slope_mask).addBands(perm_water)\n",
    "\n",
    "        geemap.ee_export_image(dfo_final,\\\n",
    "                           filename,\\\n",
    "                           scale=250,\\\n",
    "                           crs='EPSG:4326',\\\n",
    "                           region=geom,\\\n",
    "                           file_per_band=False)"
   ]
  },
  {
   "cell_type": "code",
   "execution_count": 11,
   "id": "0761365f-8628-4eb4-b52f-b34441ee95ec",
   "metadata": {},
   "outputs": [],
   "source": [
    "for name in [names[2]]:\n",
    "    for year in range(2001, 2022):\n",
    "        with rasterio.open(Path('DataExport')/name/(str(year)+'.tif'),'r+') as dst:\n",
    "            dst.descriptions = tuple(['flooded', 'duration', 'clearViews', 'clearPerc', 'maxExtent', 'permanentWater'])"
   ]
  },
  {
   "cell_type": "code",
   "execution_count": null,
   "id": "9355b423-84e5-46e3-b7e8-3bebc8fca29b",
   "metadata": {},
   "outputs": [],
   "source": []
  }
 ],
 "metadata": {
  "kernelspec": {
   "display_name": "Python 3 (ipykernel)",
   "language": "python",
   "name": "python3"
  },
  "language_info": {
   "codemirror_mode": {
    "name": "ipython",
    "version": 3
   },
   "file_extension": ".py",
   "mimetype": "text/x-python",
   "name": "python",
   "nbconvert_exporter": "python",
   "pygments_lexer": "ipython3",
   "version": "3.9.10"
  }
 },
 "nbformat": 4,
 "nbformat_minor": 5
}
