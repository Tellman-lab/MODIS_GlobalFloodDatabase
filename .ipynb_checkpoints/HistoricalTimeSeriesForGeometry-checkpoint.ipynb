{
 "cells": [
  {
   "cell_type": "code",
   "execution_count": 1,
   "id": "3a16976e-40e4-437b-ad8b-7ade13ef2b9e",
   "metadata": {
    "tags": []
   },
   "outputs": [],
   "source": [
    "import ee"
   ]
  },
  {
   "cell_type": "code",
   "execution_count": 2,
   "id": "17d78ef9-d53d-4a26-8693-a1b712cb012b",
   "metadata": {
    "tags": []
   },
   "outputs": [],
   "source": [
    "try:\n",
    "    ee.Initialize()\n",
    "except:\n",
    "    ee.Authenticate()\n",
    "    ee.Initialize()"
   ]
  },
  {
   "cell_type": "code",
   "execution_count": 73,
   "id": "b7de38df-b3e8-4d98-b928-586530ec692d",
   "metadata": {
    "tags": []
   },
   "outputs": [],
   "source": [
    "import importlib\n",
    "from flood_detection import modis\n",
    "importlib.reload(modis)\n",
    "from flood_detection.utils import misc\n",
    "import geemap\n",
    "from pathlib import Path\n",
    "import rasterio as rio\n",
    "import geopandas as gpd\n",
    "from dateutil import rrule\n",
    "from datetime import datetime\n",
    "import rioxarray as rioxr"
   ]
  },
  {
   "cell_type": "markdown",
   "id": "837fb8a4-ebff-4415-b0bd-710daf0bed28",
   "metadata": {
    "tags": []
   },
   "source": [
    "# specify these"
   ]
  },
  {
   "cell_type": "markdown",
   "id": "cbb5ca2f-cd77-4395-a704-9a558937f73a",
   "metadata": {},
   "source": [
    "I used a shapefile I found here: [Honduras Shapefile](https://data.humdata.org/dataset/cod-ab-hnd?)\n",
    "\n",
    "Put it in `Data/Shapefiles/`, and unzip it"
   ]
  },
  {
   "cell_type": "code",
   "execution_count": 4,
   "id": "697b2d2f-4c06-4f27-9ed5-cfa49928bf52",
   "metadata": {
    "tags": []
   },
   "outputs": [
    {
     "name": "stdout",
     "output_type": "stream",
     "text": [
      "Shapefile found, good to go\n"
     ]
    }
   ],
   "source": [
    "shapefilePath = Path('Data/Shapefiles/hnd_adm_sinit_20161005_SHP/hnd_admbnda_adm0_sinit_20161005.shp')\n",
    "\n",
    "if not shapefilePath.exists():\n",
    "    print(\"Shapefile not found!!!\")\n",
    "else:\n",
    "    print(\"Shapefile found, good to go\")"
   ]
  },
  {
   "cell_type": "markdown",
   "id": "e3fdcda9-26a1-43a6-bb9d-93e8ee0f1c3f",
   "metadata": {
    "tags": []
   },
   "source": [
    "### This is the output path where the rasters will go"
   ]
  },
  {
   "cell_type": "code",
   "execution_count": 5,
   "id": "cdcfcf1a-02af-4706-bb46-95de97e30fc4",
   "metadata": {
    "tags": []
   },
   "outputs": [],
   "source": [
    "outputPath = Path('Data/Rasters/GFD/') / shapefilePath.stem\n",
    "outputPath.mkdir(exist_ok=True, parents=True)"
   ]
  },
  {
   "cell_type": "markdown",
   "id": "5fe770ef-3f52-4335-8706-504bef8941a8",
   "metadata": {
    "tags": []
   },
   "source": [
    "### Start and end date of what you want to generate, with time resolution (dt)"
   ]
  },
  {
   "cell_type": "code",
   "execution_count": 30,
   "id": "cd6a076a-4b0b-4145-bb73-b018199a5553",
   "metadata": {
    "tags": []
   },
   "outputs": [],
   "source": [
    "startDate = '2020-01-01'\n",
    "endDate = '2020-12-31'\n",
    "dt = rrule.MONTHLY # either YEARLY, MONTHLY, or WEEKLY"
   ]
  },
  {
   "cell_type": "code",
   "execution_count": 30,
   "id": "baecee3e-bd25-4b26-8439-bbb70583a257",
   "metadata": {
    "tags": []
   },
   "outputs": [],
   "source": []
  },
  {
   "cell_type": "code",
   "execution_count": 30,
   "id": "8881a448-59de-49b9-ab89-81f74542758a",
   "metadata": {
    "tags": []
   },
   "outputs": [],
   "source": []
  },
  {
   "cell_type": "markdown",
   "id": "e67e53a5-fb1a-4a6f-8a07-8db20f1bdb84",
   "metadata": {
    "tags": []
   },
   "source": [
    "# Prepare the data"
   ]
  },
  {
   "cell_type": "code",
   "execution_count": 13,
   "id": "e8dcd0ce-0e9a-4801-8176-5c0851badb47",
   "metadata": {},
   "outputs": [],
   "source": [
    "# read shapefile\n",
    "shapefile = gpd.read_file(shapefilePath)"
   ]
  },
  {
   "cell_type": "code",
   "execution_count": 16,
   "id": "c6d9273e-7a9a-410f-9ce2-eb792bcbe44c",
   "metadata": {
    "tags": []
   },
   "outputs": [],
   "source": [
    "# upload convex hull to gee (shapefile itself is usually too complex to be uploaded)\n",
    "gdpFrame = gpd.GeoDataFrame(shapefile.convex_hull)\n",
    "gdpFrame.columns = ['geom']\n",
    "gdpFrame = gdpFrame.set_geometry('geom')\n",
    "gdpFrame = gdpFrame.set_crs(shapefile.crs)\n",
    "eeShape = geemap.geopandas_to_ee(gdpFrame).geometry()"
   ]
  },
  {
   "cell_type": "code",
   "execution_count": 30,
   "id": "b944915e-d7f7-4f28-bcde-4d9c1d7b273c",
   "metadata": {
    "tags": []
   },
   "outputs": [],
   "source": []
  },
  {
   "cell_type": "code",
   "execution_count": 47,
   "id": "1aaf70c9-3b96-4c1f-8b58-146c3dec2e7e",
   "metadata": {},
   "outputs": [],
   "source": [
    "# create vector of date to iterate over\n",
    "dates = list(map(lambda date: date.strftime('%Y-%m-%d'), rrule.rrule(dt,\n",
    "                      dtstart=datetime.strptime(startDate, '%Y-%m-%d'),\n",
    "                      until=datetime.strptime(endDate, '%Y-%m-%d'))))"
   ]
  },
  {
   "cell_type": "code",
   "execution_count": 48,
   "id": "71e1dfeb-d1a6-4b90-85ae-5107ca789863",
   "metadata": {
    "tags": []
   },
   "outputs": [],
   "source": [
    "# specify delta time in ee format\n",
    "ee_dt = 'Year'\n",
    "if dt == rrule.MONTHLY:\n",
    "    ee_dt = 'Month'\n",
    "if dt == rrule.WEEKLY:\n",
    "    ee_dt = 'Week'"
   ]
  },
  {
   "cell_type": "code",
   "execution_count": 60,
   "id": "8736ad1c-26cd-4646-94ab-de1e7e89615b",
   "metadata": {
    "tags": []
   },
   "outputs": [],
   "source": []
  },
  {
   "cell_type": "markdown",
   "id": "a75ae957-152c-456a-ba9b-a28ba763c362",
   "metadata": {
    "tags": []
   },
   "source": [
    "# Download Data"
   ]
  },
  {
   "cell_type": "code",
   "execution_count": 66,
   "id": "3c7f1fc9-d83d-45e5-bf16-41c6a61dbc27",
   "metadata": {
    "tags": []
   },
   "outputs": [],
   "source": [
    "def DownloadImageForDate(date, ee_dt, geom):\n",
    "    \n",
    "    # calculate start and end date\n",
    "    startDate = ee.Date(date)\n",
    "    endDate = ee.Date(date).advance(1, ee_dt)\n",
    "    endDateString = endDate.format(\"YYYY-MM-dd\").getInfo()\n",
    "\n",
    "    # specify file name\n",
    "    filename = outputPath/f\"{date}_{endDateString}.tif\"\n",
    "    if filename.exists():\n",
    "        return\n",
    "\n",
    "    # create the floodmap code on ee\n",
    "    flood_map = modis.dfo(geom, startDate, endDate, \"standard\", '3Day', True)\n",
    "    flood_map_slope_mask = misc.apply_slope_mask(flood_map, thresh=5)\n",
    "    perm_water = misc.get_jrc_perm(geom)\n",
    "    dfo_final = ee.Image(flood_map_slope_mask).addBands(perm_water)\n",
    "    \n",
    "    # download\n",
    "    geemap.download_ee_image(dfo_final, filename, crs='EPSG:4326', region=geom, scale=250)"
   ]
  },
  {
   "cell_type": "code",
   "execution_count": 67,
   "id": "14c9d5d6-e643-42ce-8a50-d776b65fbb6b",
   "metadata": {},
   "outputs": [
    {
     "name": "stdout",
     "output_type": "stream",
     "text": [
      "Collected and pre-processed MODIS Images\n",
      "DFO Flood Dectection Complete\n"
     ]
    },
    {
     "data": {
      "application/vnd.jupyter.widget-view+json": {
       "model_id": "75ae50ec30014afb97e276022d1ba567",
       "version_major": 2,
       "version_minor": 0
      },
      "text/plain": [
       "2020-01-01_2020-02-01.tif: |    | 0.00/106M (raw) [  0.0%] in 00:00 (eta:     ?)"
      ]
     },
     "metadata": {},
     "output_type": "display_data"
    },
    {
     "name": "stderr",
     "output_type": "stream",
     "text": [
      "There is no STAC entry for: None\n"
     ]
    }
   ],
   "source": [
    "# iterate over dates and dowload\n",
    "for date in dates:\n",
    "    DownloadImageForDate(date ee_dt, eeShape)"
   ]
  },
  {
   "cell_type": "markdown",
   "id": "607d633d-dc30-4ff2-a4a9-cb223c9ed6c9",
   "metadata": {},
   "source": [
    "# Postprocess the files"
   ]
  },
  {
   "cell_type": "code",
   "execution_count": 72,
   "id": "b6a0d31a-9b46-457e-bc40-13fbdf1d73ef",
   "metadata": {},
   "outputs": [],
   "source": [
    "## add band descriptions to files\n",
    "\n",
    "for file in outputPath.glob('**/*.tif'):\n",
    "    with rio.open(file,'r+') as dst:\n",
    "        dst.descriptions = tuple(['flooded', 'duration', 'clearViews', 'clearPerc', 'maxExtent', 'permanentWater'])"
   ]
  },
  {
   "cell_type": "code",
   "execution_count": 85,
   "id": "9355b423-84e5-46e3-b7e8-3bebc8fca29b",
   "metadata": {},
   "outputs": [],
   "source": [
    "## Clip to geometry\n",
    "\n",
    "for file in outputPath.glob('**/*.tif'):\n",
    "    with rioxr.open_rasterio(file) as dst:\n",
    "        data = dst\n",
    "    data.rio.clip(shapefile.geometry).rio.to_raster(file)"
   ]
  },
  {
   "cell_type": "code",
   "execution_count": null,
   "id": "a5325b9a-2b44-4478-9076-930c04933025",
   "metadata": {},
   "outputs": [],
   "source": []
  }
 ],
 "metadata": {
  "kernelspec": {
   "display_name": "Python 3 (ipykernel)",
   "language": "python",
   "name": "python3"
  },
  "language_info": {
   "codemirror_mode": {
    "name": "ipython",
    "version": 3
   },
   "file_extension": ".py",
   "mimetype": "text/x-python",
   "name": "python",
   "nbconvert_exporter": "python",
   "pygments_lexer": "ipython3",
   "version": "3.11.4"
  }
 },
 "nbformat": 4,
 "nbformat_minor": 5
}
