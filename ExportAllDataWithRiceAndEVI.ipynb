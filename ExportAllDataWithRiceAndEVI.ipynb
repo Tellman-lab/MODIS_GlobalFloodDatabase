{
 "cells": [
  {
   "cell_type": "code",
   "execution_count": 1,
   "id": "3a16976e-40e4-437b-ad8b-7ade13ef2b9e",
   "metadata": {},
   "outputs": [],
   "source": [
    "import ee"
   ]
  },
  {
   "cell_type": "code",
   "execution_count": 3,
   "id": "17d78ef9-d53d-4a26-8693-a1b712cb012b",
   "metadata": {},
   "outputs": [
    {
     "data": {
      "text/html": [
       "<p>To authorize access needed by Earth Engine, open the following\n",
       "        URL in a web browser and follow the instructions:</p>\n",
       "        <p><a href=https://code.earthengine.google.com/client-auth?scopes=https%3A//www.googleapis.com/auth/earthengine%20https%3A//www.googleapis.com/auth/devstorage.full_control&request_id=KIvsfYqQvKsahwIb03qilCyz6MqfduDSWo8Qj00qeYM&tc=mXOgPXgLWgwXZpP1siSX7hQOKC0pGTCKs2f2mo21SiI&cc=kQNQGT5HXnBQcZb-oFl3sRGx1gER0OZTOXsdGOha-S4>https://code.earthengine.google.com/client-auth?scopes=https%3A//www.googleapis.com/auth/earthengine%20https%3A//www.googleapis.com/auth/devstorage.full_control&request_id=KIvsfYqQvKsahwIb03qilCyz6MqfduDSWo8Qj00qeYM&tc=mXOgPXgLWgwXZpP1siSX7hQOKC0pGTCKs2f2mo21SiI&cc=kQNQGT5HXnBQcZb-oFl3sRGx1gER0OZTOXsdGOha-S4</a></p>\n",
       "        <p>The authorization workflow will generate a code, which you\n",
       "        should paste in the box below</p>\n",
       "        "
      ],
      "text/plain": [
       "<IPython.core.display.HTML object>"
      ]
     },
     "metadata": {},
     "output_type": "display_data"
    },
    {
     "name": "stdout",
     "output_type": "stream",
     "text": [
      "Enter verification code:  4/1AX4XfWhe67PPKom7nH9xPd3H8qi-lrcEuzoquiqwiLFwfTAumRQJk6Qw7O0\n"
     ]
    },
    {
     "name": "stdout",
     "output_type": "stream",
     "text": [
      "\n",
      "Successfully saved authorization token.\n"
     ]
    }
   ],
   "source": [
    "ee.Authenticate()"
   ]
  },
  {
   "cell_type": "code",
   "execution_count": 2,
   "id": "ad0b16c7-87e6-472a-ade8-ba45c4131d94",
   "metadata": {},
   "outputs": [],
   "source": [
    "ee.Initialize()"
   ]
  },
  {
   "cell_type": "code",
   "execution_count": 30,
   "id": "b7de38df-b3e8-4d98-b928-586530ec692d",
   "metadata": {},
   "outputs": [],
   "source": [
    "import importlib\n",
    "from flood_detection import modis\n",
    "importlib.reload(modis)\n",
    "from flood_detection.utils import misc\n",
    "import geemap\n",
    "from pathlib import Path\n",
    "import rasterio\n",
    "import pandas as pd\n",
    "import numpy as np\n",
    "import seaborn as sns\n",
    "import matplotlib.pyplot as plt"
   ]
  },
  {
   "cell_type": "code",
   "execution_count": null,
   "id": "f7653bac-9f30-4f8f-8266-a20ad3160749",
   "metadata": {},
   "outputs": [],
   "source": []
  },
  {
   "cell_type": "code",
   "execution_count": 80,
   "id": "c77e1b66-5d48-45da-a2c6-e6d4ff94ff8c",
   "metadata": {},
   "outputs": [],
   "source": [
    "districts = ee.FeatureCollection(\"projects/ee-nip/assets/ShapeFiles/Admin/Districts\")"
   ]
  },
  {
   "cell_type": "code",
   "execution_count": 5,
   "id": "e1fc220d-7d7d-43a0-a603-39eacda8310b",
   "metadata": {},
   "outputs": [],
   "source": [
    "evi = ee.ImageCollection(\"MODIS/061/MOD13Q1\")"
   ]
  },
  {
   "cell_type": "code",
   "execution_count": 6,
   "id": "9740a0de-f0f5-4bdb-98ef-9902452f4cd4",
   "metadata": {},
   "outputs": [],
   "source": [
    "geom = districts.union().geometry()"
   ]
  },
  {
   "cell_type": "code",
   "execution_count": 42,
   "id": "b71b48d5-c5d0-4687-868f-a4adbfc14b3a",
   "metadata": {},
   "outputs": [],
   "source": [
    "flood_map = modis.dfo(geom, str(year)+\"-06-01\", str(year)+\"-12-31\", \"standard\", '3Day', True)\n",
    "\n",
    "flood_map = misc.apply_slope_mask(flood_map, thresh=5)\n",
    "\n",
    "# perm_water = misc.get_jrc_perm(geom)\n",
    "\n",
    "dfo_final = ee.Image(flood_map).select('flooded')"
   ]
  },
  {
   "cell_type": "code",
   "execution_count": null,
   "id": "9688ff02-c5c1-4b05-92d4-01a4c50206da",
   "metadata": {},
   "outputs": [],
   "source": []
  },
  {
   "cell_type": "code",
   "execution_count": 47,
   "id": "ea1138d4-6717-48cd-8dd3-23d82d3216b7",
   "metadata": {},
   "outputs": [],
   "source": [
    "reducedRegions = dfo_final.reduceRegions(districts, ee.Reducer.mean(), 250, 'EPSG:4326')"
   ]
  },
  {
   "cell_type": "code",
   "execution_count": 53,
   "id": "ec226d8b-4896-4dc0-a89f-2358fe2fce45",
   "metadata": {},
   "outputs": [],
   "source": [
    "data = reducedRegions.map(lambda feature: feature.setGeometry(None)).select(['NAME_2','mean']).getInfo()"
   ]
  },
  {
   "cell_type": "code",
   "execution_count": 58,
   "id": "711abb56-086b-4870-8d15-8fece676f5e6",
   "metadata": {},
   "outputs": [],
   "source": [
    "dataList = [item['properties'] for item in data['features']]"
   ]
  },
  {
   "cell_type": "code",
   "execution_count": 71,
   "id": "583dec4f-9d4c-4155-a94d-b90094c467ed",
   "metadata": {},
   "outputs": [],
   "source": [
    "df = pd.DataFrame(dataList)\n",
    "df.columns = ['District', 'FractionFlooded']\n",
    "df['Year'] = year"
   ]
  },
  {
   "cell_type": "code",
   "execution_count": 9,
   "id": "e7bdf9e8-500c-4a41-8a7b-68718198ffe6",
   "metadata": {},
   "outputs": [],
   "source": [
    "dfs = []\n",
    "for year in range(2001, 2022):\n",
    "    print(year)\n",
    "    startDate = str(year)+\"-06-01\"\n",
    "    endDate = str(year)+\"-12-31\"\n",
    "    flood_map = modis.dfo(geom, startDate, endDate, \"standard\", '3Day', True)\n",
    "    \n",
    "    flood_map = misc.apply_slope_mask(flood_map, thresh=5)\n",
    "    \n",
    "    mask = ee.Image(\"projects/ee-gates/assets/Dataset/Raster/Inferred/RFRiceClassified/\"+str(year)).eq(1)\n",
    "    flood_map = flood_map.updateMask(mask)\n",
    "    \n",
    "    flood_map = flood_map.addBands(evi.filterDate(ee.Date(startDate), ee.Date(endDate)).select('EVI').median())\n",
    "\n",
    "    dfo_final = ee.Image(flood_map).select(['flooded', 'duration' , 'max_img', 'EVI'])\n",
    "    \n",
    "    reducedRegions = dfo_final.reduceRegions(districts, ee.Reducer.mean(), 250, 'EPSG:4326')\n",
    "    \n",
    "    data = reducedRegions.map(lambda feature: feature.setGeometry(None)).select(['NAME_2','flooded', 'duration', 'max_img', 'EVI']).getInfo()\n",
    "    dataList = [item['properties'] for item in data['features']]\n",
    "    df = pd.DataFrame(dataList)\n",
    "    df.columns = ['EVI', 'District', 'Duration', 'FractionFlooded', 'MaxExtent']\n",
    "    df['Year'] = year\n",
    "    dfs.append(df)\n",
    "dfs = pd.concat(dfs, ignore_index=True)\n",
    "dfs['PostTreatment'] = dfs.Year >= 2011\n",
    "dfs.EVI = np.interp(dfs.EVI, (-2000, 10000), (0.0, 1.0))\n",
    "rices = []\n",
    "for year in range(2001, 2022):\n",
    "    print(year)\n",
    "    rice = ee.Image(\"projects/ee-gates/assets/Dataset/Raster/Inferred/RFRiceClassified/\"+str(year))\n",
    "    \n",
    "    reducedRegions = rice.reduceRegions(districts, ee.Reducer.mean(), 250, 'EPSG:4326')\n",
    "    \n",
    "    data = reducedRegions.map(lambda feature: feature.setGeometry(None)).select(['NAME_2','mean']).getInfo()\n",
    "    dataList = [item['properties'] for item in data['features']]\n",
    "    df = pd.DataFrame(dataList)\n",
    "    df.columns = ['District', 'Rice']\n",
    "    df['Year'] = year\n",
    "    rices.append(df)\n",
    "rices = pd.concat(rices, ignore_index=True)\n",
    "dfs = dfs.merge(rices, on=['District','Year'])\n",
    "dfs = dfs[['District', 'Year', 'Rice', 'EVI', 'FractionFlooded', 'MaxExtent', 'Duration', 'PostTreatment']]"
   ]
  },
  {
   "cell_type": "code",
   "execution_count": 87,
   "id": "bd8a538b-9ebf-475c-9370-165907a572d7",
   "metadata": {},
   "outputs": [],
   "source": []
  },
  {
   "cell_type": "code",
   "execution_count": 95,
   "id": "19998048-d912-45c1-beb2-23d90ca60674",
   "metadata": {},
   "outputs": [],
   "source": [
    "dfs.to_json('data.json')"
   ]
  },
  {
   "cell_type": "code",
   "execution_count": 96,
   "id": "f52d4a11-d53a-4f73-8317-df37495b23b4",
   "metadata": {},
   "outputs": [
    {
     "data": {
      "text/html": [
       "<div>\n",
       "<style scoped>\n",
       "    .dataframe tbody tr th:only-of-type {\n",
       "        vertical-align: middle;\n",
       "    }\n",
       "\n",
       "    .dataframe tbody tr th {\n",
       "        vertical-align: top;\n",
       "    }\n",
       "\n",
       "    .dataframe thead th {\n",
       "        text-align: right;\n",
       "    }\n",
       "</style>\n",
       "<table border=\"1\" class=\"dataframe\">\n",
       "  <thead>\n",
       "    <tr style=\"text-align: right;\">\n",
       "      <th></th>\n",
       "      <th>EVI</th>\n",
       "      <th>District</th>\n",
       "      <th>FractionFlooded</th>\n",
       "      <th>MaxExtent</th>\n",
       "      <th>Year</th>\n",
       "      <th>Duration</th>\n",
       "      <th>PostTreatment</th>\n",
       "      <th>Rice</th>\n",
       "    </tr>\n",
       "  </thead>\n",
       "  <tbody>\n",
       "    <tr>\n",
       "      <th>0</th>\n",
       "      <td>0.446823</td>\n",
       "      <td>Barguna</td>\n",
       "      <td>0.000071</td>\n",
       "      <td>0.000000</td>\n",
       "      <td>2001</td>\n",
       "      <td>0.000071</td>\n",
       "      <td>False</td>\n",
       "      <td>0.664750</td>\n",
       "    </tr>\n",
       "    <tr>\n",
       "      <th>1</th>\n",
       "      <td>0.448199</td>\n",
       "      <td>Barishal</td>\n",
       "      <td>0.003017</td>\n",
       "      <td>0.000000</td>\n",
       "      <td>2001</td>\n",
       "      <td>0.003855</td>\n",
       "      <td>False</td>\n",
       "      <td>0.465179</td>\n",
       "    </tr>\n",
       "    <tr>\n",
       "      <th>2</th>\n",
       "      <td>0.416707</td>\n",
       "      <td>Bhola</td>\n",
       "      <td>0.000076</td>\n",
       "      <td>0.000040</td>\n",
       "      <td>2001</td>\n",
       "      <td>0.000076</td>\n",
       "      <td>False</td>\n",
       "      <td>0.392893</td>\n",
       "    </tr>\n",
       "    <tr>\n",
       "      <th>3</th>\n",
       "      <td>0.471272</td>\n",
       "      <td>Jhalakathi</td>\n",
       "      <td>0.000000</td>\n",
       "      <td>0.000000</td>\n",
       "      <td>2001</td>\n",
       "      <td>0.000000</td>\n",
       "      <td>False</td>\n",
       "      <td>0.564581</td>\n",
       "    </tr>\n",
       "    <tr>\n",
       "      <th>4</th>\n",
       "      <td>0.423399</td>\n",
       "      <td>Patuakhali</td>\n",
       "      <td>0.000071</td>\n",
       "      <td>0.000000</td>\n",
       "      <td>2001</td>\n",
       "      <td>0.000071</td>\n",
       "      <td>False</td>\n",
       "      <td>0.659248</td>\n",
       "    </tr>\n",
       "    <tr>\n",
       "      <th>...</th>\n",
       "      <td>...</td>\n",
       "      <td>...</td>\n",
       "      <td>...</td>\n",
       "      <td>...</td>\n",
       "      <td>...</td>\n",
       "      <td>...</td>\n",
       "      <td>...</td>\n",
       "      <td>...</td>\n",
       "    </tr>\n",
       "    <tr>\n",
       "      <th>1339</th>\n",
       "      <td>0.380135</td>\n",
       "      <td>Sirajganj</td>\n",
       "      <td>0.251555</td>\n",
       "      <td>0.219896</td>\n",
       "      <td>2021</td>\n",
       "      <td>1.067323</td>\n",
       "      <td>True</td>\n",
       "      <td>0.406424</td>\n",
       "    </tr>\n",
       "    <tr>\n",
       "      <th>1340</th>\n",
       "      <td>0.423495</td>\n",
       "      <td>Habiganj</td>\n",
       "      <td>0.025941</td>\n",
       "      <td>0.013733</td>\n",
       "      <td>2021</td>\n",
       "      <td>0.239869</td>\n",
       "      <td>True</td>\n",
       "      <td>0.175233</td>\n",
       "    </tr>\n",
       "    <tr>\n",
       "      <th>1341</th>\n",
       "      <td>0.484396</td>\n",
       "      <td>Moulvibazar</td>\n",
       "      <td>0.008450</td>\n",
       "      <td>0.005347</td>\n",
       "      <td>2021</td>\n",
       "      <td>0.146313</td>\n",
       "      <td>True</td>\n",
       "      <td>0.197079</td>\n",
       "    </tr>\n",
       "    <tr>\n",
       "      <th>1342</th>\n",
       "      <td>0.287785</td>\n",
       "      <td>Sunamganj</td>\n",
       "      <td>0.231194</td>\n",
       "      <td>0.168491</td>\n",
       "      <td>2021</td>\n",
       "      <td>7.200530</td>\n",
       "      <td>True</td>\n",
       "      <td>0.048852</td>\n",
       "    </tr>\n",
       "    <tr>\n",
       "      <th>1343</th>\n",
       "      <td>0.410657</td>\n",
       "      <td>Sylhet</td>\n",
       "      <td>0.156947</td>\n",
       "      <td>0.054380</td>\n",
       "      <td>2021</td>\n",
       "      <td>1.026974</td>\n",
       "      <td>True</td>\n",
       "      <td>0.191320</td>\n",
       "    </tr>\n",
       "  </tbody>\n",
       "</table>\n",
       "<p>1344 rows × 8 columns</p>\n",
       "</div>"
      ],
      "text/plain": [
       "           EVI     District  FractionFlooded  MaxExtent  Year  Duration  \\\n",
       "0     0.446823      Barguna         0.000071   0.000000  2001  0.000071   \n",
       "1     0.448199     Barishal         0.003017   0.000000  2001  0.003855   \n",
       "2     0.416707        Bhola         0.000076   0.000040  2001  0.000076   \n",
       "3     0.471272   Jhalakathi         0.000000   0.000000  2001  0.000000   \n",
       "4     0.423399   Patuakhali         0.000071   0.000000  2001  0.000071   \n",
       "...        ...          ...              ...        ...   ...       ...   \n",
       "1339  0.380135    Sirajganj         0.251555   0.219896  2021  1.067323   \n",
       "1340  0.423495     Habiganj         0.025941   0.013733  2021  0.239869   \n",
       "1341  0.484396  Moulvibazar         0.008450   0.005347  2021  0.146313   \n",
       "1342  0.287785    Sunamganj         0.231194   0.168491  2021  7.200530   \n",
       "1343  0.410657       Sylhet         0.156947   0.054380  2021  1.026974   \n",
       "\n",
       "      PostTreatment      Rice  \n",
       "0             False  0.664750  \n",
       "1             False  0.465179  \n",
       "2             False  0.392893  \n",
       "3             False  0.564581  \n",
       "4             False  0.659248  \n",
       "...             ...       ...  \n",
       "1339           True  0.406424  \n",
       "1340           True  0.175233  \n",
       "1341           True  0.197079  \n",
       "1342           True  0.048852  \n",
       "1343           True  0.191320  \n",
       "\n",
       "[1344 rows x 8 columns]"
      ]
     },
     "execution_count": 96,
     "metadata": {},
     "output_type": "execute_result"
    }
   ],
   "source": [
    "dfs"
   ]
  },
  {
   "cell_type": "code",
   "execution_count": 64,
   "id": "8422bcfc-68bb-462d-ab4a-6cdf2ac219a2",
   "metadata": {},
   "outputs": [],
   "source": [
    "dfs.to_csv('data.csv', index=False)"
   ]
  },
  {
   "cell_type": "code",
   "execution_count": null,
   "id": "377eb0ba-93ed-42cb-887c-b45aa908a960",
   "metadata": {},
   "outputs": [],
   "source": []
  },
  {
   "cell_type": "code",
   "execution_count": 94,
   "id": "bc87a090-68b6-493e-8dd3-bbf29a52998d",
   "metadata": {},
   "outputs": [],
   "source": []
  },
  {
   "cell_type": "code",
   "execution_count": 64,
   "id": "98332f81-b3c2-48cd-92fb-30899db993f4",
   "metadata": {},
   "outputs": [],
   "source": []
  },
  {
   "cell_type": "code",
   "execution_count": 64,
   "id": "f5c3e7f3-d83e-4f61-bbe9-299b94158a0a",
   "metadata": {},
   "outputs": [],
   "source": []
  },
  {
   "cell_type": "code",
   "execution_count": 64,
   "id": "2239d415-7451-4e99-b00a-0c39d12bec30",
   "metadata": {},
   "outputs": [],
   "source": []
  },
  {
   "cell_type": "code",
   "execution_count": 64,
   "id": "eda89cff-d157-4076-a905-2be846f1eb89",
   "metadata": {},
   "outputs": [],
   "source": []
  },
  {
   "cell_type": "code",
   "execution_count": null,
   "id": "5bd77237-cd94-4ad1-b31f-d2f3ac7d51f9",
   "metadata": {},
   "outputs": [],
   "source": []
  },
  {
   "cell_type": "code",
   "execution_count": null,
   "id": "568e04a0-8187-4021-abc0-bfdcd7f16ae4",
   "metadata": {},
   "outputs": [],
   "source": []
  },
  {
   "cell_type": "code",
   "execution_count": null,
   "id": "b55b694a-13b3-4277-b856-cc3631a29688",
   "metadata": {},
   "outputs": [],
   "source": []
  },
  {
   "cell_type": "code",
   "execution_count": 113,
   "id": "0cc0a0f8-574d-438c-83da-e2545089176a",
   "metadata": {},
   "outputs": [],
   "source": []
  },
  {
   "cell_type": "code",
   "execution_count": 111,
   "id": "93a8ed43-b079-4396-a494-4b9b9b071c87",
   "metadata": {},
   "outputs": [],
   "source": []
  },
  {
   "cell_type": "code",
   "execution_count": null,
   "id": "00466e4c-8ac8-4f53-9b3b-9ab590b8a078",
   "metadata": {},
   "outputs": [],
   "source": []
  }
 ],
 "metadata": {
  "kernelspec": {
   "display_name": "Python 3.8.9 64-bit",
   "language": "python",
   "name": "python3"
  },
  "language_info": {
   "codemirror_mode": {
    "name": "ipython",
    "version": 3
   },
   "file_extension": ".py",
   "mimetype": "text/x-python",
   "name": "python",
   "nbconvert_exporter": "python",
   "pygments_lexer": "ipython3",
   "version": "3.8.9"
  },
  "vscode": {
   "interpreter": {
    "hash": "31f2aee4e71d21fbe5cf8b01ff0e069b9275f58929596ceb00d14d90e3e16cd6"
   }
  }
 },
 "nbformat": 4,
 "nbformat_minor": 5
}
